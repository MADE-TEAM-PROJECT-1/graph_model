{
 "cells": [
  {
   "cell_type": "code",
   "execution_count": 75,
   "id": "b1d7bae3-cab5-4998-9558-714b1b4153b3",
   "metadata": {},
   "outputs": [],
   "source": [
    "import pandas as pd\n",
    "import numpy as np\n",
    "from tqdm.notebook import tqdm\n",
    "from itertools import combinations\n",
    "from collections import Counter\n",
    "from ampligraph.latent_features import ConvE, DistMult, save_model, restore_model\n",
    "from ampligraph.discovery import discover_facts, find_nearest_neighbours, query_topn\n",
    "\n",
    "RANDOM_SEED = 17\n",
    "EMB_DIM = 10\n",
    "N = 100000"
   ]
  },
  {
   "cell_type": "code",
   "execution_count": 2,
   "id": "56c83ecf-1d8f-474e-9f8f-8a9764dca7d5",
   "metadata": {},
   "outputs": [],
   "source": [
    "articles = pd.read_json('../EDA/articles_tts.json').drop(['year'], axis=1)"
   ]
  },
  {
   "cell_type": "code",
   "execution_count": 3,
   "id": "5550246d-14fe-4684-97df-f5c41c06a1d1",
   "metadata": {},
   "outputs": [
    {
     "name": "stdout",
     "output_type": "stream",
     "text": [
      "<class 'pandas.core.frame.DataFrame'>\n",
      "Int64Index: 1084405 entries, 0 to 1084404\n",
      "Data columns (total 3 columns):\n",
      " #   Column      Non-Null Count    Dtype \n",
      "---  ------      --------------    ----- \n",
      " 0   _id         1084405 non-null  object\n",
      " 1   references  1084405 non-null  object\n",
      " 2   authors     1084405 non-null  object\n",
      "dtypes: object(3)\n",
      "memory usage: 33.1+ MB\n"
     ]
    }
   ],
   "source": [
    "articles.info()"
   ]
  },
  {
   "cell_type": "code",
   "execution_count": 4,
   "id": "4b594b70-1a66-492a-ab23-48240a83b7e4",
   "metadata": {},
   "outputs": [
    {
     "data": {
      "text/html": [
       "<div>\n",
       "<style scoped>\n",
       "    .dataframe tbody tr th:only-of-type {\n",
       "        vertical-align: middle;\n",
       "    }\n",
       "\n",
       "    .dataframe tbody tr th {\n",
       "        vertical-align: top;\n",
       "    }\n",
       "\n",
       "    .dataframe thead th {\n",
       "        text-align: right;\n",
       "    }\n",
       "</style>\n",
       "<table border=\"1\" class=\"dataframe\">\n",
       "  <thead>\n",
       "    <tr style=\"text-align: right;\">\n",
       "      <th></th>\n",
       "      <th>_id</th>\n",
       "      <th>references</th>\n",
       "      <th>authors</th>\n",
       "    </tr>\n",
       "  </thead>\n",
       "  <tbody>\n",
       "    <tr>\n",
       "      <th>0</th>\n",
       "      <td>53e99784b7602d9701f3e151</td>\n",
       "      <td>[53e99cf5b7602d97025ace63, 557e8a7a6fee0fe990c...</td>\n",
       "      <td>[{'_id': '53f46797dabfaeb22f542630', 'name': '...</td>\n",
       "    </tr>\n",
       "    <tr>\n",
       "      <th>1</th>\n",
       "      <td>53e99784b7602d9701f3e15d</td>\n",
       "      <td>[53e9a8a9b7602d97031f6bb9, 599c7b6b601a182cd27...</td>\n",
       "      <td>[{'_id': '53f43b03dabfaedce555bf2a', 'name': '...</td>\n",
       "    </tr>\n",
       "    <tr>\n",
       "      <th>2</th>\n",
       "      <td>53e99784b7602d9701f3f411</td>\n",
       "      <td>[53e9adbdb7602d97037be8a2, 53e9bb53b7602d97047...</td>\n",
       "      <td>[{'_id': '548a2e3ddabfae9b40134fbc', 'name': '...</td>\n",
       "    </tr>\n",
       "    <tr>\n",
       "      <th>3</th>\n",
       "      <td>53e99792b7602d9701f5af1a</td>\n",
       "      <td>[53e9b3dab7602d9703ec7ddf, 53e9a3edb7602d9702d...</td>\n",
       "      <td>[{'_id': '5631df8845cedb3399f3e752', 'name': '...</td>\n",
       "    </tr>\n",
       "    <tr>\n",
       "      <th>4</th>\n",
       "      <td>53e99792b7602d9701f5b0a5</td>\n",
       "      <td>[53e9bdceb7602d9704a7ee58, 53e9b5a8b7602d97040...</td>\n",
       "      <td>[{'_id': '53f431addabfaedd74d6d650', 'name': '...</td>\n",
       "    </tr>\n",
       "  </tbody>\n",
       "</table>\n",
       "</div>"
      ],
      "text/plain": [
       "                        _id  \\\n",
       "0  53e99784b7602d9701f3e151   \n",
       "1  53e99784b7602d9701f3e15d   \n",
       "2  53e99784b7602d9701f3f411   \n",
       "3  53e99792b7602d9701f5af1a   \n",
       "4  53e99792b7602d9701f5b0a5   \n",
       "\n",
       "                                          references  \\\n",
       "0  [53e99cf5b7602d97025ace63, 557e8a7a6fee0fe990c...   \n",
       "1  [53e9a8a9b7602d97031f6bb9, 599c7b6b601a182cd27...   \n",
       "2  [53e9adbdb7602d97037be8a2, 53e9bb53b7602d97047...   \n",
       "3  [53e9b3dab7602d9703ec7ddf, 53e9a3edb7602d9702d...   \n",
       "4  [53e9bdceb7602d9704a7ee58, 53e9b5a8b7602d97040...   \n",
       "\n",
       "                                             authors  \n",
       "0  [{'_id': '53f46797dabfaeb22f542630', 'name': '...  \n",
       "1  [{'_id': '53f43b03dabfaedce555bf2a', 'name': '...  \n",
       "2  [{'_id': '548a2e3ddabfae9b40134fbc', 'name': '...  \n",
       "3  [{'_id': '5631df8845cedb3399f3e752', 'name': '...  \n",
       "4  [{'_id': '53f431addabfaedd74d6d650', 'name': '...  "
      ]
     },
     "execution_count": 4,
     "metadata": {},
     "output_type": "execute_result"
    }
   ],
   "source": [
    "articles.head()"
   ]
  },
  {
   "cell_type": "markdown",
   "id": "54635d41-bef0-4fc1-879b-387294f39b96",
   "metadata": {},
   "source": [
    "# Creating dataset\n",
    "\n",
    "Dataset consist from tuples: `(entity1, relation, entity2)`, where  relation $\\in$ {`REFERENCE`, `AUTHOR`, `COAUTHOR`}"
   ]
  },
  {
   "cell_type": "code",
   "execution_count": 58,
   "id": "8a45627c-ed30-416c-9ad4-fc494870efc2",
   "metadata": {},
   "outputs": [
    {
     "data": {
      "application/vnd.jupyter.widget-view+json": {
       "model_id": "cb87a24617644159aa034dba32294be4",
       "version_major": 2,
       "version_minor": 0
      },
      "text/plain": [
       "  0%|          | 0/100000 [00:00<?, ?it/s]"
      ]
     },
     "metadata": {},
     "output_type": "display_data"
    },
    {
     "name": "stdout",
     "output_type": "stream",
     "text": [
      "1596416\n",
      "Counter({'REFERENCE': 942667, 'COAUTHOR': 367061, 'AUTHOR': 286688})\n"
     ]
    }
   ],
   "source": [
    "dataset = []\n",
    "\n",
    "coauthors = set()  # to exclude repeated coathors\n",
    "for _, article in tqdm(articles.iloc[:N].iterrows(), total=N):\n",
    "    dataset.extend([[article._id, 'REFERENCE', ref] for ref in article.references])\n",
    "    \n",
    "    authors = sorted(author['_id'] for author in article.authors)\n",
    "    dataset.extend([[author, 'AUTHOR', article._id] for author in authors])\n",
    "    \n",
    "    curr_coauthors = set(filter(lambda p: p not in coauthors, combinations(authors, 2)))\n",
    "    dataset.extend([[author1, 'COAUTHOR', author2] for (author1, author2) in curr_coauthors])\n",
    "    \n",
    "    coauthors |= curr_coauthors\n",
    "\n",
    "print(len(dataset))\n",
    "dataset = np.array(dataset)\n",
    "print(Counter(dataset[:, 1]))"
   ]
  },
  {
   "cell_type": "code",
   "execution_count": 89,
   "id": "55d36b86-bcdb-4117-8a9d-80b0c920946b",
   "metadata": {},
   "outputs": [
    {
     "name": "stdout",
     "output_type": "stream",
     "text": [
      "[['53e99784b7602d9701f3e151' 'REFERENCE' '53e99cf5b7602d97025ace63']\n",
      " ['53e99784b7602d9701f3e151' 'REFERENCE' '557e8a7a6fee0fe990caa63d']\n",
      " ['53e99784b7602d9701f3e151' 'REFERENCE' '53e9a96cb7602d97032c459a']\n",
      " ['53e99784b7602d9701f3e151' 'REFERENCE' '53e9b929b7602d9704515791']\n",
      " ['53e99784b7602d9701f3e151' 'REFERENCE' '557e59ebf6678c77ea222447']\n",
      " ['53f46797dabfaeb22f542630' 'AUTHOR' '53e99784b7602d9701f3e151']\n",
      " ['54328883dabfaeb4c6a8a699' 'AUTHOR' '53e99784b7602d9701f3e151']\n",
      " ['53f46797dabfaeb22f542630' 'COAUTHOR' '54328883dabfaeb4c6a8a699']\n",
      " ['53e99784b7602d9701f3e15d' 'REFERENCE' '53e9a8a9b7602d97031f6bb9']\n",
      " ['53e99784b7602d9701f3e15d' 'REFERENCE' '599c7b6b601a182cd27360da']\n",
      " ['53e99784b7602d9701f3e15d' 'REFERENCE' '53e9b443b7602d9703f3e52b']\n",
      " ['53e99784b7602d9701f3e15d' 'REFERENCE' '53e9a6a6b7602d9702fdc57e']\n",
      " ['53e99784b7602d9701f3e15d' 'REFERENCE' '599c7b6a601a182cd2735703']\n",
      " ['53e99784b7602d9701f3e15d' 'REFERENCE' '53e9aad9b7602d970345afea']\n",
      " ['53e99784b7602d9701f3e15d' 'REFERENCE' '5582821f0cf2bf7bae57ac18']\n",
      " ['53e99784b7602d9701f3e15d' 'REFERENCE' '5e8911859fced0a24bb9a2ba']\n",
      " ['53e99784b7602d9701f3e15d' 'REFERENCE' '53e9b002b7602d9703a5c932']\n",
      " ['53f42e8cdabfaee1c0a4274e' 'AUTHOR' '53e99784b7602d9701f3e15d']\n",
      " ['53f43b03dabfaedce555bf2a' 'AUTHOR' '53e99784b7602d9701f3e15d']\n",
      " ['53f45ee9dabfaee43ecda842' 'AUTHOR' '53e99784b7602d9701f3e15d']]\n"
     ]
    }
   ],
   "source": [
    "print(dataset[:20])"
   ]
  },
  {
   "cell_type": "code",
   "execution_count": 55,
   "id": "31124fed-9eca-4eee-b3c5-285c3586446f",
   "metadata": {},
   "outputs": [
    {
     "name": "stdout",
     "output_type": "stream",
     "text": [
      "WARNING - Your graph has a large number of distinct entities. Found 708010 distinct entities\n",
      "WARNING - Changing the variable initialization strategy.\n",
      "WARNING - Changing the strategy to use lazy loading of variables...\n"
     ]
    },
    {
     "ename": "NotImplementedError",
     "evalue": "ConvE not implemented when dealing with large graphs.",
     "output_type": "error",
     "traceback": [
      "\u001b[1;31m---------------------------------------------------------------------------\u001b[0m",
      "\u001b[1;31mNotImplementedError\u001b[0m                       Traceback (most recent call last)",
      "\u001b[1;32m~\\AppData\\Local\\Temp\\ipykernel_11108\\1286235216.py\u001b[0m in \u001b[0;36m<module>\u001b[1;34m\u001b[0m\n\u001b[0;32m      8\u001b[0m )\n\u001b[0;32m      9\u001b[0m \u001b[1;33m\u001b[0m\u001b[0m\n\u001b[1;32m---> 10\u001b[1;33m \u001b[0mmodel\u001b[0m\u001b[1;33m.\u001b[0m\u001b[0mfit\u001b[0m\u001b[1;33m(\u001b[0m\u001b[0mdataset\u001b[0m\u001b[1;33m)\u001b[0m\u001b[1;33m\u001b[0m\u001b[1;33m\u001b[0m\u001b[0m\n\u001b[0m",
      "\u001b[1;32mC:\\ProgramData\\Miniconda3\\envs\\ampligraph\\lib\\site-packages\\ampligraph\\latent_features\\models\\ConvE.py\u001b[0m in \u001b[0;36mfit\u001b[1;34m(self, X, early_stopping, early_stopping_params)\u001b[0m\n\u001b[0;32m    751\u001b[0m         \u001b[1;32mexcept\u001b[0m \u001b[0mBaseException\u001b[0m \u001b[1;32mas\u001b[0m \u001b[0me\u001b[0m\u001b[1;33m:\u001b[0m\u001b[1;33m\u001b[0m\u001b[1;33m\u001b[0m\u001b[0m\n\u001b[0;32m    752\u001b[0m             \u001b[0mself\u001b[0m\u001b[1;33m.\u001b[0m\u001b[0m_end_training\u001b[0m\u001b[1;33m(\u001b[0m\u001b[1;33m)\u001b[0m\u001b[1;33m\u001b[0m\u001b[1;33m\u001b[0m\u001b[0m\n\u001b[1;32m--> 753\u001b[1;33m             \u001b[1;32mraise\u001b[0m \u001b[0me\u001b[0m\u001b[1;33m\u001b[0m\u001b[1;33m\u001b[0m\u001b[0m\n\u001b[0m\u001b[0;32m    754\u001b[0m \u001b[1;33m\u001b[0m\u001b[0m\n\u001b[0;32m    755\u001b[0m     \u001b[1;32mdef\u001b[0m \u001b[0m_initialize_eval_graph\u001b[0m\u001b[1;33m(\u001b[0m\u001b[0mself\u001b[0m\u001b[1;33m,\u001b[0m \u001b[0mmode\u001b[0m\u001b[1;33m=\u001b[0m\u001b[1;34m'test'\u001b[0m\u001b[1;33m)\u001b[0m\u001b[1;33m:\u001b[0m\u001b[1;33m\u001b[0m\u001b[1;33m\u001b[0m\u001b[0m\n",
      "\u001b[1;32mC:\\ProgramData\\Miniconda3\\envs\\ampligraph\\lib\\site-packages\\ampligraph\\latent_features\\models\\ConvE.py\u001b[0m in \u001b[0;36mfit\u001b[1;34m(self, X, early_stopping, early_stopping_params)\u001b[0m\n\u001b[0;32m    641\u001b[0m                                     \"Kindly change the optimizer and restart the experiment\")\n\u001b[0;32m    642\u001b[0m \u001b[1;33m\u001b[0m\u001b[0m\n\u001b[1;32m--> 643\u001b[1;33m                 \u001b[1;32mraise\u001b[0m \u001b[0mNotImplementedError\u001b[0m\u001b[1;33m(\u001b[0m\u001b[1;34m'ConvE not implemented when dealing with large graphs.'\u001b[0m\u001b[1;33m)\u001b[0m\u001b[1;33m\u001b[0m\u001b[1;33m\u001b[0m\u001b[0m\n\u001b[0m\u001b[0;32m    644\u001b[0m \u001b[1;33m\u001b[0m\u001b[0m\n\u001b[0;32m    645\u001b[0m             \u001b[0mself\u001b[0m\u001b[1;33m.\u001b[0m\u001b[0mtrain_dataset_handle\u001b[0m\u001b[1;33m.\u001b[0m\u001b[0mmap_data\u001b[0m\u001b[1;33m(\u001b[0m\u001b[1;33m)\u001b[0m\u001b[1;33m\u001b[0m\u001b[1;33m\u001b[0m\u001b[0m\n",
      "\u001b[1;31mNotImplementedError\u001b[0m: ConvE not implemented when dealing with large graphs."
     ]
    }
   ],
   "source": [
    "model = ConvE(\n",
    "    k=EMB_DIM,\n",
    "    epochs=3,\n",
    "    optimizer='sgd',\n",
    "    seed=RANDOM_SEED,\n",
    "    low_memory=True,\n",
    "    verbose=True\n",
    ")\n",
    "\n",
    "model.fit(dataset)"
   ]
  },
  {
   "cell_type": "markdown",
   "id": "e02c4f6c-dbbd-4670-9764-f8a293502e01",
   "metadata": {},
   "source": [
    "### For training `ConvE` dataset is too large."
   ]
  },
  {
   "cell_type": "code",
   "execution_count": null,
   "id": "00aa1b0e-9cba-4ab0-85f3-af55eb0399d4",
   "metadata": {},
   "outputs": [
    {
     "data": {
      "text/plain": [
       "10.550171136856079"
      ]
     },
     "execution_count": 33,
     "metadata": {},
     "output_type": "execute_result"
    }
   ],
   "source": [
    "(708010 * EMB_DIM* 200 * 2 * 4) / 1024 ** 3"
   ]
  },
  {
   "cell_type": "code",
   "execution_count": 62,
   "id": "05307180-f2ce-40c3-8e52-8c5525b0f358",
   "metadata": {},
   "outputs": [
    {
     "name": "stdout",
     "output_type": "stream",
     "text": [
      "WARNING - Your graph has a large number of distinct entities. Found 708010 distinct entities\n",
      "WARNING - Changing the variable initialization strategy.\n",
      "WARNING - Changing the strategy to use lazy loading of variables...\n",
      "WARNING - Only 31930 embeddings would be loaded in memory per batch...\n"
     ]
    },
    {
     "name": "stderr",
     "output_type": "stream",
     "text": [
      "Average DistMult Loss:   1.386221: 100%|████████████████████████████████████████████████████████████████████████████████████████████████| 10/10 [00:49<00:00,  4.96s/epoch]\n"
     ]
    }
   ],
   "source": [
    "model = DistMult(\n",
    "    k=EMB_DIM,\n",
    "    seed=RANDOM_SEED,\n",
    "    optimizer='sgd',\n",
    "    epochs=10,\n",
    "    verbose=True\n",
    ")\n",
    "\n",
    "model.fit(dataset)"
   ]
  },
  {
   "cell_type": "code",
   "execution_count": 76,
   "id": "d4687a3b-cf61-426c-bace-b41d2b6f823d",
   "metadata": {},
   "outputs": [],
   "source": [
    "save_model(model, './graph_model.pkl')"
   ]
  },
  {
   "cell_type": "markdown",
   "id": "38a4ce9d-7778-4e7c-9494-873cdd82f7d3",
   "metadata": {},
   "source": [
    "## After model is trained we explore knowledge from our graph"
   ]
  },
  {
   "cell_type": "markdown",
   "id": "526db28f-4d46-4a88-9ae8-5b6e3942ef72",
   "metadata": {},
   "source": [
    "## Getting embeddings for entities"
   ]
  },
  {
   "cell_type": "code",
   "execution_count": 77,
   "id": "a73bbd88-233b-4afc-8807-03c8f6c25b82",
   "metadata": {},
   "outputs": [],
   "source": [
    "paper, author = articles.loc[0]._id, articles.loc[0].authors[0]['_id']"
   ]
  },
  {
   "cell_type": "code",
   "execution_count": 79,
   "id": "5c2e8bff-447c-4f67-ac21-ad7e88c273f6",
   "metadata": {},
   "outputs": [
    {
     "data": {
      "text/plain": [
       "array([[ 3.6442066e-03,  1.9322786e-03, -3.0478395e-03, -2.5843806e-04,\n",
       "         9.0770680e-04, -2.9814788e-03,  2.2133968e-03, -7.9435494e-04,\n",
       "        -1.8411485e-03, -4.1665314e-04],\n",
       "       [-2.5265519e-05, -3.9500915e-03,  1.6737570e-03, -5.7361176e-04,\n",
       "        -3.6262395e-04, -1.1760191e-03,  9.4050070e-04, -5.1189039e-04,\n",
       "         1.1498800e-03, -1.3735156e-03]], dtype=float32)"
      ]
     },
     "execution_count": 79,
     "metadata": {},
     "output_type": "execute_result"
    }
   ],
   "source": [
    "model.get_embeddings([paper, author])"
   ]
  },
  {
   "cell_type": "markdown",
   "id": "50bb9e3d-55c6-4e4a-b1a8-fa93d5704a99",
   "metadata": {},
   "source": [
    "### Discover new facts. (we can specify relations if we want)"
   ]
  },
  {
   "cell_type": "code",
   "execution_count": 69,
   "id": "b70d6c81-55e6-48d8-891f-1af9e1269268",
   "metadata": {},
   "outputs": [
    {
     "name": "stdout",
     "output_type": "stream",
     "text": [
      "WARNING - DeprecationWarning: use_default_protocol will be removed in future. Please use corrupt_side argument instead.\n",
      "WARNING - You are attempting to use 708010 distinct entities to generate synthetic negatives in the evaluation\n",
      "    protocol. This may be unnecessary and will lead to a 'harder' task. Besides, it will lead to a much slower\n",
      "    evaluation procedure. We recommended to set the 'corruption_entities' argument to a reasonably sized set\n",
      "    of entities. The size of corruption_entities depends on your domain-specific task.\n",
      "WARNING - Your graph has a large number of distinct entities. Found 708010 distinct entities\n",
      "WARNING - Changing the variable loading strategy to use lazy loading of variables...\n",
      "WARNING - Evaluation would take longer than usual.\n"
     ]
    },
    {
     "name": "stderr",
     "output_type": "stream",
     "text": [
      "100%|████████████████████████████████████████████████████████████████████████████████████████████████████████████████████████████████████| 500/500 [42:28<00:00,  5.10s/it]\n"
     ]
    },
    {
     "name": "stdout",
     "output_type": "stream",
     "text": [
      "WARNING - DeprecationWarning: use_default_protocol will be removed in future. Please use corrupt_side argument instead.\n",
      "WARNING - You are attempting to use 708010 distinct entities to generate synthetic negatives in the evaluation\n",
      "    protocol. This may be unnecessary and will lead to a 'harder' task. Besides, it will lead to a much slower\n",
      "    evaluation procedure. We recommended to set the 'corruption_entities' argument to a reasonably sized set\n",
      "    of entities. The size of corruption_entities depends on your domain-specific task.\n",
      "WARNING - Your graph has a large number of distinct entities. Found 708010 distinct entities\n",
      "WARNING - Changing the variable loading strategy to use lazy loading of variables...\n",
      "WARNING - Evaluation would take longer than usual.\n"
     ]
    },
    {
     "name": "stderr",
     "output_type": "stream",
     "text": [
      "100%|████████████████████████████████████████████████████████████████████████████████████████████████████████████████████████████████████| 500/500 [42:23<00:00,  5.09s/it]\n"
     ]
    },
    {
     "name": "stdout",
     "output_type": "stream",
     "text": [
      "WARNING - DeprecationWarning: use_default_protocol will be removed in future. Please use corrupt_side argument instead.\n",
      "WARNING - You are attempting to use 708010 distinct entities to generate synthetic negatives in the evaluation\n",
      "    protocol. This may be unnecessary and will lead to a 'harder' task. Besides, it will lead to a much slower\n",
      "    evaluation procedure. We recommended to set the 'corruption_entities' argument to a reasonably sized set\n",
      "    of entities. The size of corruption_entities depends on your domain-specific task.\n",
      "WARNING - Your graph has a large number of distinct entities. Found 708010 distinct entities\n",
      "WARNING - Changing the variable loading strategy to use lazy loading of variables...\n",
      "WARNING - Evaluation would take longer than usual.\n"
     ]
    },
    {
     "name": "stderr",
     "output_type": "stream",
     "text": [
      "100%|█████████████████████████████████████████████████████████████████████████████████████████████████████████████████████████████████| 500/500 [10:58:59<00:00, 79.08s/it]\n"
     ]
    }
   ],
   "source": [
    "new_facts = discover_facts(dataset, model, top_n=10, max_candidates=500, strategy='random_uniform', seed=RANDOM_SEED)"
   ]
  },
  {
   "cell_type": "code",
   "execution_count": 71,
   "id": "5f86dd30-864f-44c8-a9ed-9177d1c06e34",
   "metadata": {},
   "outputs": [
    {
     "data": {
      "text/plain": [
       "(array([], shape=(0, 9), dtype=object), array([], dtype=float64))"
      ]
     },
     "execution_count": 71,
     "metadata": {},
     "output_type": "execute_result"
    }
   ],
   "source": [
    "new_facts"
   ]
  },
  {
   "cell_type": "markdown",
   "id": "bc98f45a-fd95-4471-a1c2-f6cfeb8428bd",
   "metadata": {},
   "source": [
    "### We need to specify larger number of `max_candidates` in `discover_facts`, otherwise the result will be empty.\n",
    "However, it will take to much time, for `max_candidates=500` it took ~1.5h, but in doc examples `max_candidates` usually is set to $\\approx10^4-10^5$"
   ]
  },
  {
   "cell_type": "markdown",
   "id": "5856d49f-e710-483e-b930-3edae861277e",
   "metadata": {},
   "source": [
    "### Queries the model with two elements of a triple and returns the top_n results of all possible completions ordered by score predicted by the model."
   ]
  },
  {
   "cell_type": "code",
   "execution_count": 51,
   "id": "52446cc1-13e0-4e85-9994-ca04fa105517",
   "metadata": {
    "collapsed": true,
    "jupyter": {
     "outputs_hidden": true
    },
    "tags": []
   },
   "outputs": [
    {
     "name": "stdout",
     "output_type": "stream",
     "text": [
      "WARNING - Your graph has a large number of distinct entities. Found 708010 distinct entities\n",
      "WARNING - Changing the variable loading strategy to use lazy loading of variables...\n",
      "WARNING - Evaluation would take longer than usual.\n"
     ]
    },
    {
     "name": "stderr",
     "output_type": "stream",
     "text": [
      " 20%|████████████████████████▋                                                                                                 | 143298/708010 [1:19:11<5:12:05, 30.16it/s]\n"
     ]
    },
    {
     "ename": "KeyboardInterrupt",
     "evalue": "",
     "output_type": "error",
     "traceback": [
      "\u001b[1;31m---------------------------------------------------------------------------\u001b[0m",
      "\u001b[1;31mKeyboardInterrupt\u001b[0m                         Traceback (most recent call last)",
      "\u001b[1;32m~\\AppData\\Local\\Temp\\ipykernel_11108\\3023173738.py\u001b[0m in \u001b[0;36m<module>\u001b[1;34m\u001b[0m\n\u001b[0;32m      1\u001b[0m \u001b[1;32mfrom\u001b[0m \u001b[0mampligraph\u001b[0m\u001b[1;33m.\u001b[0m\u001b[0mdiscovery\u001b[0m \u001b[1;32mimport\u001b[0m \u001b[0mquery_topn\u001b[0m\u001b[1;33m\u001b[0m\u001b[1;33m\u001b[0m\u001b[0m\n\u001b[1;32m----> 2\u001b[1;33m \u001b[0mtopn\u001b[0m \u001b[1;33m=\u001b[0m \u001b[0mquery_topn\u001b[0m\u001b[1;33m(\u001b[0m\u001b[0mmodel\u001b[0m\u001b[1;33m,\u001b[0m \u001b[0mtop_n\u001b[0m\u001b[1;33m=\u001b[0m\u001b[1;36m10\u001b[0m\u001b[1;33m,\u001b[0m \u001b[0mhead\u001b[0m\u001b[1;33m=\u001b[0m\u001b[0marticles\u001b[0m\u001b[1;33m.\u001b[0m\u001b[0mloc\u001b[0m\u001b[1;33m[\u001b[0m\u001b[1;36m0\u001b[0m\u001b[1;33m]\u001b[0m\u001b[1;33m.\u001b[0m\u001b[0m_id\u001b[0m\u001b[1;33m,\u001b[0m \u001b[0mrelation\u001b[0m\u001b[1;33m=\u001b[0m\u001b[1;34m'REFERENCE'\u001b[0m\u001b[1;33m)\u001b[0m\u001b[1;33m\u001b[0m\u001b[1;33m\u001b[0m\u001b[0m\n\u001b[0m",
      "\u001b[1;32mC:\\ProgramData\\Miniconda3\\envs\\ampligraph\\lib\\site-packages\\ampligraph\\discovery\\discovery.py\u001b[0m in \u001b[0;36mquery_topn\u001b[1;34m(model, top_n, head, relation, tail, ents_to_consider, rels_to_consider)\u001b[0m\n\u001b[0;32m    955\u001b[0m \u001b[1;33m\u001b[0m\u001b[0m\n\u001b[0;32m    956\u001b[0m     \u001b[1;31m# Get scores for completed triples\u001b[0m\u001b[1;33m\u001b[0m\u001b[1;33m\u001b[0m\u001b[1;33m\u001b[0m\u001b[0m\n\u001b[1;32m--> 957\u001b[1;33m     \u001b[0mscores\u001b[0m \u001b[1;33m=\u001b[0m \u001b[0mmodel\u001b[0m\u001b[1;33m.\u001b[0m\u001b[0mpredict\u001b[0m\u001b[1;33m(\u001b[0m\u001b[0mtriples\u001b[0m\u001b[1;33m)\u001b[0m\u001b[1;33m\u001b[0m\u001b[1;33m\u001b[0m\u001b[0m\n\u001b[0m\u001b[0;32m    958\u001b[0m \u001b[1;33m\u001b[0m\u001b[0m\n\u001b[0;32m    959\u001b[0m     \u001b[1;31m# Join triples and scores, sort ascending by scores, then take top_n results\u001b[0m\u001b[1;33m\u001b[0m\u001b[1;33m\u001b[0m\u001b[1;33m\u001b[0m\u001b[0m\n",
      "\u001b[1;32mC:\\ProgramData\\Miniconda3\\envs\\ampligraph\\lib\\site-packages\\ampligraph\\latent_features\\models\\DistMult.py\u001b[0m in \u001b[0;36mpredict\u001b[1;34m(self, X, from_idx)\u001b[0m\n\u001b[0;32m    321\u001b[0m     \u001b[1;32mdef\u001b[0m \u001b[0mpredict\u001b[0m\u001b[1;33m(\u001b[0m\u001b[0mself\u001b[0m\u001b[1;33m,\u001b[0m \u001b[0mX\u001b[0m\u001b[1;33m,\u001b[0m \u001b[0mfrom_idx\u001b[0m\u001b[1;33m=\u001b[0m\u001b[1;32mFalse\u001b[0m\u001b[1;33m)\u001b[0m\u001b[1;33m:\u001b[0m\u001b[1;33m\u001b[0m\u001b[1;33m\u001b[0m\u001b[0m\n\u001b[0;32m    322\u001b[0m         \u001b[0m__doc__\u001b[0m \u001b[1;33m=\u001b[0m \u001b[0msuper\u001b[0m\u001b[1;33m(\u001b[0m\u001b[1;33m)\u001b[0m\u001b[1;33m.\u001b[0m\u001b[0mpredict\u001b[0m\u001b[1;33m.\u001b[0m\u001b[0m__doc__\u001b[0m  \u001b[1;31m# NOQA\u001b[0m\u001b[1;33m\u001b[0m\u001b[1;33m\u001b[0m\u001b[0m\n\u001b[1;32m--> 323\u001b[1;33m         \u001b[1;32mreturn\u001b[0m \u001b[0msuper\u001b[0m\u001b[1;33m(\u001b[0m\u001b[1;33m)\u001b[0m\u001b[1;33m.\u001b[0m\u001b[0mpredict\u001b[0m\u001b[1;33m(\u001b[0m\u001b[0mX\u001b[0m\u001b[1;33m,\u001b[0m \u001b[0mfrom_idx\u001b[0m\u001b[1;33m=\u001b[0m\u001b[0mfrom_idx\u001b[0m\u001b[1;33m)\u001b[0m\u001b[1;33m\u001b[0m\u001b[1;33m\u001b[0m\u001b[0m\n\u001b[0m\u001b[0;32m    324\u001b[0m \u001b[1;33m\u001b[0m\u001b[0m\n\u001b[0;32m    325\u001b[0m     \u001b[1;32mdef\u001b[0m \u001b[0mcalibrate\u001b[0m\u001b[1;33m(\u001b[0m\u001b[0mself\u001b[0m\u001b[1;33m,\u001b[0m \u001b[0mX_pos\u001b[0m\u001b[1;33m,\u001b[0m \u001b[0mX_neg\u001b[0m\u001b[1;33m=\u001b[0m\u001b[1;32mNone\u001b[0m\u001b[1;33m,\u001b[0m \u001b[0mpositive_base_rate\u001b[0m\u001b[1;33m=\u001b[0m\u001b[1;32mNone\u001b[0m\u001b[1;33m,\u001b[0m \u001b[0mbatches_count\u001b[0m\u001b[1;33m=\u001b[0m\u001b[1;36m100\u001b[0m\u001b[1;33m,\u001b[0m \u001b[0mepochs\u001b[0m\u001b[1;33m=\u001b[0m\u001b[1;36m50\u001b[0m\u001b[1;33m)\u001b[0m\u001b[1;33m:\u001b[0m\u001b[1;33m\u001b[0m\u001b[1;33m\u001b[0m\u001b[0m\n",
      "\u001b[1;32mC:\\ProgramData\\Miniconda3\\envs\\ampligraph\\lib\\site-packages\\ampligraph\\latent_features\\models\\EmbeddingModel.py\u001b[0m in \u001b[0;36mpredict\u001b[1;34m(self, X, from_idx)\u001b[0m\n\u001b[0;32m   1774\u001b[0m \u001b[1;33m\u001b[0m\u001b[0m\n\u001b[0;32m   1775\u001b[0m                 \u001b[1;32mfor\u001b[0m \u001b[0m_\u001b[0m \u001b[1;32min\u001b[0m \u001b[0mtqdm\u001b[0m\u001b[1;33m(\u001b[0m\u001b[0mrange\u001b[0m\u001b[1;33m(\u001b[0m\u001b[0mself\u001b[0m\u001b[1;33m.\u001b[0m\u001b[0meval_dataset_handle\u001b[0m\u001b[1;33m.\u001b[0m\u001b[0mget_size\u001b[0m\u001b[1;33m(\u001b[0m\u001b[1;34m'test'\u001b[0m\u001b[1;33m)\u001b[0m\u001b[1;33m)\u001b[0m\u001b[1;33m,\u001b[0m \u001b[0mdisable\u001b[0m\u001b[1;33m=\u001b[0m\u001b[1;33m(\u001b[0m\u001b[1;32mnot\u001b[0m \u001b[0mself\u001b[0m\u001b[1;33m.\u001b[0m\u001b[0mverbose\u001b[0m\u001b[1;33m)\u001b[0m\u001b[1;33m)\u001b[0m\u001b[1;33m:\u001b[0m\u001b[1;33m\u001b[0m\u001b[1;33m\u001b[0m\u001b[0m\n\u001b[1;32m-> 1776\u001b[1;33m                     \u001b[0mscore\u001b[0m \u001b[1;33m=\u001b[0m \u001b[0msess\u001b[0m\u001b[1;33m.\u001b[0m\u001b[0mrun\u001b[0m\u001b[1;33m(\u001b[0m\u001b[0mself\u001b[0m\u001b[1;33m.\u001b[0m\u001b[0mscore_positive\u001b[0m\u001b[1;33m)\u001b[0m\u001b[1;33m\u001b[0m\u001b[1;33m\u001b[0m\u001b[0m\n\u001b[0m\u001b[0;32m   1777\u001b[0m                     \u001b[0mscores\u001b[0m\u001b[1;33m.\u001b[0m\u001b[0mappend\u001b[0m\u001b[1;33m(\u001b[0m\u001b[0mscore\u001b[0m\u001b[1;33m)\u001b[0m\u001b[1;33m\u001b[0m\u001b[1;33m\u001b[0m\u001b[0m\n\u001b[0;32m   1778\u001b[0m \u001b[1;33m\u001b[0m\u001b[0m\n",
      "\u001b[1;32mC:\\ProgramData\\Miniconda3\\envs\\ampligraph\\lib\\site-packages\\tensorflow_core\\python\\client\\session.py\u001b[0m in \u001b[0;36mrun\u001b[1;34m(self, fetches, feed_dict, options, run_metadata)\u001b[0m\n\u001b[0;32m    954\u001b[0m     \u001b[1;32mtry\u001b[0m\u001b[1;33m:\u001b[0m\u001b[1;33m\u001b[0m\u001b[1;33m\u001b[0m\u001b[0m\n\u001b[0;32m    955\u001b[0m       result = self._run(None, fetches, feed_dict, options_ptr,\n\u001b[1;32m--> 956\u001b[1;33m                          run_metadata_ptr)\n\u001b[0m\u001b[0;32m    957\u001b[0m       \u001b[1;32mif\u001b[0m \u001b[0mrun_metadata\u001b[0m\u001b[1;33m:\u001b[0m\u001b[1;33m\u001b[0m\u001b[1;33m\u001b[0m\u001b[0m\n\u001b[0;32m    958\u001b[0m         \u001b[0mproto_data\u001b[0m \u001b[1;33m=\u001b[0m \u001b[0mtf_session\u001b[0m\u001b[1;33m.\u001b[0m\u001b[0mTF_GetBuffer\u001b[0m\u001b[1;33m(\u001b[0m\u001b[0mrun_metadata_ptr\u001b[0m\u001b[1;33m)\u001b[0m\u001b[1;33m\u001b[0m\u001b[1;33m\u001b[0m\u001b[0m\n",
      "\u001b[1;32mC:\\ProgramData\\Miniconda3\\envs\\ampligraph\\lib\\site-packages\\tensorflow_core\\python\\client\\session.py\u001b[0m in \u001b[0;36m_run\u001b[1;34m(self, handle, fetches, feed_dict, options, run_metadata)\u001b[0m\n\u001b[0;32m   1178\u001b[0m     \u001b[1;32mif\u001b[0m \u001b[0mfinal_fetches\u001b[0m \u001b[1;32mor\u001b[0m \u001b[0mfinal_targets\u001b[0m \u001b[1;32mor\u001b[0m \u001b[1;33m(\u001b[0m\u001b[0mhandle\u001b[0m \u001b[1;32mand\u001b[0m \u001b[0mfeed_dict_tensor\u001b[0m\u001b[1;33m)\u001b[0m\u001b[1;33m:\u001b[0m\u001b[1;33m\u001b[0m\u001b[1;33m\u001b[0m\u001b[0m\n\u001b[0;32m   1179\u001b[0m       results = self._do_run(handle, final_targets, final_fetches,\n\u001b[1;32m-> 1180\u001b[1;33m                              feed_dict_tensor, options, run_metadata)\n\u001b[0m\u001b[0;32m   1181\u001b[0m     \u001b[1;32melse\u001b[0m\u001b[1;33m:\u001b[0m\u001b[1;33m\u001b[0m\u001b[1;33m\u001b[0m\u001b[0m\n\u001b[0;32m   1182\u001b[0m       \u001b[0mresults\u001b[0m \u001b[1;33m=\u001b[0m \u001b[1;33m[\u001b[0m\u001b[1;33m]\u001b[0m\u001b[1;33m\u001b[0m\u001b[1;33m\u001b[0m\u001b[0m\n",
      "\u001b[1;32mC:\\ProgramData\\Miniconda3\\envs\\ampligraph\\lib\\site-packages\\tensorflow_core\\python\\client\\session.py\u001b[0m in \u001b[0;36m_do_run\u001b[1;34m(self, handle, target_list, fetch_list, feed_dict, options, run_metadata)\u001b[0m\n\u001b[0;32m   1357\u001b[0m     \u001b[1;32mif\u001b[0m \u001b[0mhandle\u001b[0m \u001b[1;32mis\u001b[0m \u001b[1;32mNone\u001b[0m\u001b[1;33m:\u001b[0m\u001b[1;33m\u001b[0m\u001b[1;33m\u001b[0m\u001b[0m\n\u001b[0;32m   1358\u001b[0m       return self._do_call(_run_fn, feeds, fetches, targets, options,\n\u001b[1;32m-> 1359\u001b[1;33m                            run_metadata)\n\u001b[0m\u001b[0;32m   1360\u001b[0m     \u001b[1;32melse\u001b[0m\u001b[1;33m:\u001b[0m\u001b[1;33m\u001b[0m\u001b[1;33m\u001b[0m\u001b[0m\n\u001b[0;32m   1361\u001b[0m       \u001b[1;32mreturn\u001b[0m \u001b[0mself\u001b[0m\u001b[1;33m.\u001b[0m\u001b[0m_do_call\u001b[0m\u001b[1;33m(\u001b[0m\u001b[0m_prun_fn\u001b[0m\u001b[1;33m,\u001b[0m \u001b[0mhandle\u001b[0m\u001b[1;33m,\u001b[0m \u001b[0mfeeds\u001b[0m\u001b[1;33m,\u001b[0m \u001b[0mfetches\u001b[0m\u001b[1;33m)\u001b[0m\u001b[1;33m\u001b[0m\u001b[1;33m\u001b[0m\u001b[0m\n",
      "\u001b[1;32mC:\\ProgramData\\Miniconda3\\envs\\ampligraph\\lib\\site-packages\\tensorflow_core\\python\\client\\session.py\u001b[0m in \u001b[0;36m_do_call\u001b[1;34m(self, fn, *args)\u001b[0m\n\u001b[0;32m   1363\u001b[0m   \u001b[1;32mdef\u001b[0m \u001b[0m_do_call\u001b[0m\u001b[1;33m(\u001b[0m\u001b[0mself\u001b[0m\u001b[1;33m,\u001b[0m \u001b[0mfn\u001b[0m\u001b[1;33m,\u001b[0m \u001b[1;33m*\u001b[0m\u001b[0margs\u001b[0m\u001b[1;33m)\u001b[0m\u001b[1;33m:\u001b[0m\u001b[1;33m\u001b[0m\u001b[1;33m\u001b[0m\u001b[0m\n\u001b[0;32m   1364\u001b[0m     \u001b[1;32mtry\u001b[0m\u001b[1;33m:\u001b[0m\u001b[1;33m\u001b[0m\u001b[1;33m\u001b[0m\u001b[0m\n\u001b[1;32m-> 1365\u001b[1;33m       \u001b[1;32mreturn\u001b[0m \u001b[0mfn\u001b[0m\u001b[1;33m(\u001b[0m\u001b[1;33m*\u001b[0m\u001b[0margs\u001b[0m\u001b[1;33m)\u001b[0m\u001b[1;33m\u001b[0m\u001b[1;33m\u001b[0m\u001b[0m\n\u001b[0m\u001b[0;32m   1366\u001b[0m     \u001b[1;32mexcept\u001b[0m \u001b[0merrors\u001b[0m\u001b[1;33m.\u001b[0m\u001b[0mOpError\u001b[0m \u001b[1;32mas\u001b[0m \u001b[0me\u001b[0m\u001b[1;33m:\u001b[0m\u001b[1;33m\u001b[0m\u001b[1;33m\u001b[0m\u001b[0m\n\u001b[0;32m   1367\u001b[0m       \u001b[0mmessage\u001b[0m \u001b[1;33m=\u001b[0m \u001b[0mcompat\u001b[0m\u001b[1;33m.\u001b[0m\u001b[0mas_text\u001b[0m\u001b[1;33m(\u001b[0m\u001b[0me\u001b[0m\u001b[1;33m.\u001b[0m\u001b[0mmessage\u001b[0m\u001b[1;33m)\u001b[0m\u001b[1;33m\u001b[0m\u001b[1;33m\u001b[0m\u001b[0m\n",
      "\u001b[1;32mC:\\ProgramData\\Miniconda3\\envs\\ampligraph\\lib\\site-packages\\tensorflow_core\\python\\client\\session.py\u001b[0m in \u001b[0;36m_run_fn\u001b[1;34m(feed_dict, fetch_list, target_list, options, run_metadata)\u001b[0m\n\u001b[0;32m   1348\u001b[0m       \u001b[0mself\u001b[0m\u001b[1;33m.\u001b[0m\u001b[0m_extend_graph\u001b[0m\u001b[1;33m(\u001b[0m\u001b[1;33m)\u001b[0m\u001b[1;33m\u001b[0m\u001b[1;33m\u001b[0m\u001b[0m\n\u001b[0;32m   1349\u001b[0m       return self._call_tf_sessionrun(options, feed_dict, fetch_list,\n\u001b[1;32m-> 1350\u001b[1;33m                                       target_list, run_metadata)\n\u001b[0m\u001b[0;32m   1351\u001b[0m \u001b[1;33m\u001b[0m\u001b[0m\n\u001b[0;32m   1352\u001b[0m     \u001b[1;32mdef\u001b[0m \u001b[0m_prun_fn\u001b[0m\u001b[1;33m(\u001b[0m\u001b[0mhandle\u001b[0m\u001b[1;33m,\u001b[0m \u001b[0mfeed_dict\u001b[0m\u001b[1;33m,\u001b[0m \u001b[0mfetch_list\u001b[0m\u001b[1;33m)\u001b[0m\u001b[1;33m:\u001b[0m\u001b[1;33m\u001b[0m\u001b[1;33m\u001b[0m\u001b[0m\n",
      "\u001b[1;32mC:\\ProgramData\\Miniconda3\\envs\\ampligraph\\lib\\site-packages\\tensorflow_core\\python\\client\\session.py\u001b[0m in \u001b[0;36m_call_tf_sessionrun\u001b[1;34m(self, options, feed_dict, fetch_list, target_list, run_metadata)\u001b[0m\n\u001b[0;32m   1441\u001b[0m     return tf_session.TF_SessionRun_wrapper(self._session, options, feed_dict,\n\u001b[0;32m   1442\u001b[0m                                             \u001b[0mfetch_list\u001b[0m\u001b[1;33m,\u001b[0m \u001b[0mtarget_list\u001b[0m\u001b[1;33m,\u001b[0m\u001b[1;33m\u001b[0m\u001b[1;33m\u001b[0m\u001b[0m\n\u001b[1;32m-> 1443\u001b[1;33m                                             run_metadata)\n\u001b[0m\u001b[0;32m   1444\u001b[0m \u001b[1;33m\u001b[0m\u001b[0m\n\u001b[0;32m   1445\u001b[0m   \u001b[1;32mdef\u001b[0m \u001b[0m_call_tf_sessionprun\u001b[0m\u001b[1;33m(\u001b[0m\u001b[0mself\u001b[0m\u001b[1;33m,\u001b[0m \u001b[0mhandle\u001b[0m\u001b[1;33m,\u001b[0m \u001b[0mfeed_dict\u001b[0m\u001b[1;33m,\u001b[0m \u001b[0mfetch_list\u001b[0m\u001b[1;33m)\u001b[0m\u001b[1;33m:\u001b[0m\u001b[1;33m\u001b[0m\u001b[1;33m\u001b[0m\u001b[0m\n",
      "\u001b[1;31mKeyboardInterrupt\u001b[0m: "
     ]
    }
   ],
   "source": [
    "topn = query_topn(model, top_n=10, head=paper, relation='REFERENCE')"
   ]
  },
  {
   "cell_type": "markdown",
   "id": "a3c25939-029d-49ad-b0b1-c7ad2014f393",
   "metadata": {},
   "source": [
    "### Return the nearest neighbors of entities."
   ]
  },
  {
   "cell_type": "markdown",
   "id": "2157bf0b-fcf4-4919-92ee-c0636bfaee58",
   "metadata": {},
   "source": [
    "#### For article and author as well"
   ]
  },
  {
   "cell_type": "code",
   "execution_count": 82,
   "id": "4de53865-692c-42fb-b0ea-1c56f1e6b2a3",
   "metadata": {},
   "outputs": [
    {
     "data": {
      "text/plain": [
       "(array([['53e99784b7602d9701f3e151', '53e9a751b7602d970308a2d0',\n",
       "         '53e997f1b7602d9701ff51ef', '53f45674dabfaee0d9bf468b',\n",
       "         '53f43002dabfaeb22f42915e', '558af2a4e4b037c0875a1efb',\n",
       "         '53e9bc9eb7602d970491f34e', '53e9bc00b7602d970485eb25',\n",
       "         '53f434d6dabfaee2a1cd81b3', '573695d26e3b12023e4eb362'],\n",
       "        ['53f46797dabfaeb22f542630', '53e99c3db7602d97024ec417',\n",
       "         '53e9aed1b7602d97038fa72b', '53f43180dabfaedf4354abf7',\n",
       "         '53e9b289b7602d9703d2fd95', '53e9b917b7602d9704501bd1',\n",
       "         '53e9b47cb7602d9703f8079e', '558c6b9ee4b0cfb70a1d937e',\n",
       "         '53e9af7bb7602d97039c3d84', '53e99b63b7602d97024068d9']],\n",
       "       dtype='<U24'),\n",
       " array([[0.        , 0.04109454, 0.04743528, 0.04954237, 0.04962188,\n",
       "         0.05202979, 0.052127  , 0.05613053, 0.05625552, 0.06243461],\n",
       "        [0.        , 0.03694481, 0.03990865, 0.0442304 , 0.04476464,\n",
       "         0.04872388, 0.05277181, 0.0559786 , 0.06058449, 0.06213945]],\n",
       "       dtype=float32))"
      ]
     },
     "execution_count": 82,
     "metadata": {},
     "output_type": "execute_result"
    }
   ],
   "source": [
    "neighbors, dist = find_nearest_neighbours(model, entities=[paper, author], n_neighbors=10, metric='cosine')\n",
    "neighbors, dist"
   ]
  }
 ],
 "metadata": {
  "kernelspec": {
   "display_name": "ampligraph_kernel",
   "language": "python",
   "name": "ampligraph_kernel"
  },
  "language_info": {
   "codemirror_mode": {
    "name": "ipython",
    "version": 3
   },
   "file_extension": ".py",
   "mimetype": "text/x-python",
   "name": "python",
   "nbconvert_exporter": "python",
   "pygments_lexer": "ipython3",
   "version": "3.7.15"
  }
 },
 "nbformat": 4,
 "nbformat_minor": 5
}
